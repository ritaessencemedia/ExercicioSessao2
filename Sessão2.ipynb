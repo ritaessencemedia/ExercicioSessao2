{
  "nbformat": 4,
  "nbformat_minor": 0,
  "metadata": {
    "colab": {
      "provenance": [],
      "authorship_tag": "ABX9TyOv/NWK1rCcg9sgJWaZWgjy",
      "include_colab_link": true
    },
    "kernelspec": {
      "name": "python3",
      "display_name": "Python 3"
    },
    "language_info": {
      "name": "python"
    }
  },
  "cells": [
    {
      "cell_type": "markdown",
      "metadata": {
        "id": "view-in-github",
        "colab_type": "text"
      },
      "source": [
        "<a href=\"https://colab.research.google.com/github/ritaessencemedia/ExercicioSessao2/blob/main/Sess%C3%A3o2.ipynb\" target=\"_parent\"><img src=\"https://colab.research.google.com/assets/colab-badge.svg\" alt=\"Open In Colab\"/></a>"
      ]
    },
    {
      "cell_type": "markdown",
      "source": [
        "\n",
        "\n",
        "```\n",
        "Exercício1\n",
        "```\n",
        "\n"
      ],
      "metadata": {
        "id": "hHPSjpn8Gq2k"
      }
    },
    {
      "cell_type": "code",
      "execution_count": 2,
      "metadata": {
        "colab": {
          "base_uri": "https://localhost:8080/"
        },
        "id": "39LCM0DqGjp5",
        "outputId": "2a4b3e94-da78-4e34-8c44-3361e148d09c"
      },
      "outputs": [
        {
          "output_type": "stream",
          "name": "stdout",
          "text": [
            "Digite o salário do funcionário: 1300\n",
            "O novo salário com 15% de aumento é: R$ 1495.00\n"
          ]
        }
      ],
      "source": [
        "import numpy\n",
        "# Solicita ao usuário para digitar o salário atual\n",
        "salario = float(input(\"Digite o salário do funcionário: \"))\n",
        "\n",
        "# Calcula o novo salário com 15% de aumento\n",
        "novo_salario = salario * 1.15\n",
        "\n",
        "# Exibe o novo salário\n",
        "print(f\"O novo salário com 15% de aumento é: R$ {novo_salario:.2f}\")\n"
      ]
    },
    {
      "cell_type": "markdown",
      "source": [],
      "metadata": {
        "id": "BuUhmkUZGpGB"
      }
    },
    {
      "cell_type": "markdown",
      "source": [
        "### **Exercico 4**"
      ],
      "metadata": {
        "id": "EimGFU7dVj8i"
      }
    },
    {
      "cell_type": "code",
      "source": [
        "import numpy as np\n",
        "\n",
        "# Solicita ao usuário para digitar o valor do produto\n",
        "valor_produto = float(input(\"Digite o valor do produto: \"))\n",
        "\n",
        "# Calcula o valor com 5% de desconto usando numpy\n",
        "desconto = np.float64(0.05)\n",
        "valor_com_desconto = valor_produto * (1 - desconto)\n",
        "\n",
        "# Exibe o valor do produto com o desconto aplicado\n",
        "print(f\"O valor do produto com 5% de desconto é: R$ {valor_com_desconto:.2f}\")\n"
      ],
      "metadata": {
        "colab": {
          "base_uri": "https://localhost:8080/"
        },
        "id": "GjZtSek8WVry",
        "outputId": "f422324e-b984-4289-8333-505364139c40"
      },
      "execution_count": 3,
      "outputs": [
        {
          "output_type": "stream",
          "name": "stdout",
          "text": [
            "Digite o valor do produto: 50\n",
            "O valor do produto com 5% de desconto é: R$ 47.50\n"
          ]
        }
      ]
    },
    {
      "cell_type": "markdown",
      "source": [
        "# **Exercício5**"
      ],
      "metadata": {
        "id": "abHgCxBeW8JQ"
      }
    },
    {
      "cell_type": "code",
      "source": [
        "import numpy as np\n",
        "\n",
        "# Solicita ao usuário para digitar três valores e cria uma matriz para armazenar as variáveis\n",
        "valores = np.array([float(input(\"Digite o primeiro valor: \")),\n",
        "                    float(input(\"Digite o segundo valor: \")),\n",
        "                    float(input(\"Digite o terceiro valor: \"))])\n",
        "\n",
        "# Calcula o maior e o menor valor usando a bibliiteca numpy\n",
        "maior_valor = np.max(valores)\n",
        "menor_valor = np.min(valores)\n",
        "\n",
        "# Exibe o maior e o menor valor\n",
        "print(f\"O maior valor é: {maior_valor}\")\n",
        "print(f\"O menor valor é: {menor_valor}\")"
      ],
      "metadata": {
        "colab": {
          "base_uri": "https://localhost:8080/"
        },
        "id": "PA19xOUYXTQY",
        "outputId": "fe98a2e2-9fba-4a0c-e388-a6c362166ac7"
      },
      "execution_count": 4,
      "outputs": [
        {
          "output_type": "stream",
          "name": "stdout",
          "text": [
            "Digite o primeiro valor: 26\n",
            "Digite o segundo valor: 72\n",
            "Digite o terceiro valor: 44\n",
            "O maior valor é: 72.0\n",
            "O menor valor é: 26.0\n"
          ]
        }
      ]
    }
  ]
}